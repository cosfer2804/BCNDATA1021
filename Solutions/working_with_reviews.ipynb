{
 "cells": [
  {
   "cell_type": "code",
   "execution_count": 1,
   "id": "growing-overhead",
   "metadata": {},
   "outputs": [
    {
     "name": "stdout",
     "output_type": "stream",
     "text": [
      "hello marketing folks\n"
     ]
    }
   ],
   "source": [
    "print('hello marketing folks')"
   ]
  },
  {
   "cell_type": "markdown",
   "id": "seasonal-carroll",
   "metadata": {},
   "source": [
    "### get data"
   ]
  },
  {
   "cell_type": "code",
   "execution_count": 2,
   "id": "chubby-assistant",
   "metadata": {},
   "outputs": [],
   "source": [
    "import pandas as pd"
   ]
  },
  {
   "cell_type": "code",
   "execution_count": 3,
   "id": "intensive-arrangement",
   "metadata": {},
   "outputs": [],
   "source": [
    "data=pd.read_csv('Womens Clothing E-Commerce Reviews.csv')"
   ]
  },
  {
   "cell_type": "code",
   "execution_count": 22,
   "id": "animated-finnish",
   "metadata": {},
   "outputs": [
    {
     "data": {
      "text/html": [
       "<div>\n",
       "<style scoped>\n",
       "    .dataframe tbody tr th:only-of-type {\n",
       "        vertical-align: middle;\n",
       "    }\n",
       "\n",
       "    .dataframe tbody tr th {\n",
       "        vertical-align: top;\n",
       "    }\n",
       "\n",
       "    .dataframe thead th {\n",
       "        text-align: right;\n",
       "    }\n",
       "</style>\n",
       "<table border=\"1\" class=\"dataframe\">\n",
       "  <thead>\n",
       "    <tr style=\"text-align: right;\">\n",
       "      <th></th>\n",
       "      <th>Title</th>\n",
       "      <th>Review Text</th>\n",
       "      <th>Rating</th>\n",
       "      <th>Division Name</th>\n",
       "      <th>Department Name</th>\n",
       "    </tr>\n",
       "  </thead>\n",
       "  <tbody>\n",
       "    <tr>\n",
       "      <th>0</th>\n",
       "      <td>NaN</td>\n",
       "      <td>Absolutely wonderful - silky and sexy and comf...</td>\n",
       "      <td>4</td>\n",
       "      <td>Initmates</td>\n",
       "      <td>Intimate</td>\n",
       "    </tr>\n",
       "    <tr>\n",
       "      <th>1</th>\n",
       "      <td>NaN</td>\n",
       "      <td>Love this dress!  it's sooo pretty.  i happene...</td>\n",
       "      <td>5</td>\n",
       "      <td>General</td>\n",
       "      <td>Dresses</td>\n",
       "    </tr>\n",
       "    <tr>\n",
       "      <th>2</th>\n",
       "      <td>Some major design flaws</td>\n",
       "      <td>I had such high hopes for this dress and reall...</td>\n",
       "      <td>3</td>\n",
       "      <td>General</td>\n",
       "      <td>Dresses</td>\n",
       "    </tr>\n",
       "    <tr>\n",
       "      <th>3</th>\n",
       "      <td>My favorite buy!</td>\n",
       "      <td>I love, love, love this jumpsuit. it's fun, fl...</td>\n",
       "      <td>5</td>\n",
       "      <td>General Petite</td>\n",
       "      <td>Bottoms</td>\n",
       "    </tr>\n",
       "    <tr>\n",
       "      <th>4</th>\n",
       "      <td>Flattering shirt</td>\n",
       "      <td>This shirt is very flattering to all due to th...</td>\n",
       "      <td>5</td>\n",
       "      <td>General</td>\n",
       "      <td>Tops</td>\n",
       "    </tr>\n",
       "    <tr>\n",
       "      <th>5</th>\n",
       "      <td>Not for the very petite</td>\n",
       "      <td>I love tracy reese dresses, but this one is no...</td>\n",
       "      <td>2</td>\n",
       "      <td>General</td>\n",
       "      <td>Dresses</td>\n",
       "    </tr>\n",
       "    <tr>\n",
       "      <th>6</th>\n",
       "      <td>Cagrcoal shimmer fun</td>\n",
       "      <td>I aded this in my basket at hte last mintue to...</td>\n",
       "      <td>5</td>\n",
       "      <td>General Petite</td>\n",
       "      <td>Tops</td>\n",
       "    </tr>\n",
       "    <tr>\n",
       "      <th>7</th>\n",
       "      <td>Shimmer, surprisingly goes with lots</td>\n",
       "      <td>I ordered this in carbon for store pick up, an...</td>\n",
       "      <td>4</td>\n",
       "      <td>General Petite</td>\n",
       "      <td>Tops</td>\n",
       "    </tr>\n",
       "    <tr>\n",
       "      <th>8</th>\n",
       "      <td>Flattering</td>\n",
       "      <td>I love this dress. i usually get an xs but it ...</td>\n",
       "      <td>5</td>\n",
       "      <td>General</td>\n",
       "      <td>Dresses</td>\n",
       "    </tr>\n",
       "    <tr>\n",
       "      <th>9</th>\n",
       "      <td>Such a fun dress!</td>\n",
       "      <td>I'm 5\"5' and 125 lbs. i ordered the s petite t...</td>\n",
       "      <td>5</td>\n",
       "      <td>General</td>\n",
       "      <td>Dresses</td>\n",
       "    </tr>\n",
       "  </tbody>\n",
       "</table>\n",
       "</div>"
      ],
      "text/plain": [
       "                                  Title  \\\n",
       "0                                   NaN   \n",
       "1                                   NaN   \n",
       "2               Some major design flaws   \n",
       "3                      My favorite buy!   \n",
       "4                      Flattering shirt   \n",
       "5               Not for the very petite   \n",
       "6                  Cagrcoal shimmer fun   \n",
       "7  Shimmer, surprisingly goes with lots   \n",
       "8                            Flattering   \n",
       "9                     Such a fun dress!   \n",
       "\n",
       "                                         Review Text  Rating   Division Name  \\\n",
       "0  Absolutely wonderful - silky and sexy and comf...       4       Initmates   \n",
       "1  Love this dress!  it's sooo pretty.  i happene...       5         General   \n",
       "2  I had such high hopes for this dress and reall...       3         General   \n",
       "3  I love, love, love this jumpsuit. it's fun, fl...       5  General Petite   \n",
       "4  This shirt is very flattering to all due to th...       5         General   \n",
       "5  I love tracy reese dresses, but this one is no...       2         General   \n",
       "6  I aded this in my basket at hte last mintue to...       5  General Petite   \n",
       "7  I ordered this in carbon for store pick up, an...       4  General Petite   \n",
       "8  I love this dress. i usually get an xs but it ...       5         General   \n",
       "9  I'm 5\"5' and 125 lbs. i ordered the s petite t...       5         General   \n",
       "\n",
       "  Department Name  \n",
       "0        Intimate  \n",
       "1         Dresses  \n",
       "2         Dresses  \n",
       "3         Bottoms  \n",
       "4            Tops  \n",
       "5         Dresses  \n",
       "6            Tops  \n",
       "7            Tops  \n",
       "8         Dresses  \n",
       "9         Dresses  "
      ]
     },
     "execution_count": 22,
     "metadata": {},
     "output_type": "execute_result"
    }
   ],
   "source": [
    "#select the columns i want to work with \n",
    "reviews=data[['Title','Review Text','Rating','Division Name','Department Name']]\n",
    "reviews.head(10)"
   ]
  },
  {
   "cell_type": "markdown",
   "id": "freelance-morris",
   "metadata": {},
   "source": [
    "### processing data "
   ]
  },
  {
   "cell_type": "code",
   "execution_count": 25,
   "id": "special-attack",
   "metadata": {},
   "outputs": [],
   "source": [
    "reviews.columns=reviews.columns.str.lower()"
   ]
  },
  {
   "cell_type": "code",
   "execution_count": 7,
   "id": "quick-tribune",
   "metadata": {},
   "outputs": [
    {
     "name": "stdout",
     "output_type": "stream",
     "text": [
      "<class 'pandas.core.frame.DataFrame'>\n",
      "RangeIndex: 23486 entries, 0 to 23485\n",
      "Data columns (total 5 columns):\n",
      " #   Column           Non-Null Count  Dtype \n",
      "---  ------           --------------  ----- \n",
      " 0   title            19676 non-null  object\n",
      " 1   review text      22641 non-null  object\n",
      " 2   rating           23486 non-null  int64 \n",
      " 3   division name    23472 non-null  object\n",
      " 4   department name  23472 non-null  object\n",
      "dtypes: int64(1), object(4)\n",
      "memory usage: 917.5+ KB\n"
     ]
    }
   ],
   "source": [
    "reviews.info()"
   ]
  },
  {
   "cell_type": "code",
   "execution_count": 33,
   "id": "smooth-participant",
   "metadata": {},
   "outputs": [
    {
     "data": {
      "text/plain": [
       "(22641, 5)"
      ]
     },
     "execution_count": 33,
     "metadata": {},
     "output_type": "execute_result"
    }
   ],
   "source": [
    "#drop null rows on review text\n",
    "reviews=reviews.dropna(subset=['review text'])\n",
    "reviews.shape"
   ]
  },
  {
   "cell_type": "code",
   "execution_count": 10,
   "id": "voluntary-garlic",
   "metadata": {},
   "outputs": [
    {
     "data": {
      "text/html": [
       "<div>\n",
       "<style scoped>\n",
       "    .dataframe tbody tr th:only-of-type {\n",
       "        vertical-align: middle;\n",
       "    }\n",
       "\n",
       "    .dataframe tbody tr th {\n",
       "        vertical-align: top;\n",
       "    }\n",
       "\n",
       "    .dataframe thead th {\n",
       "        text-align: right;\n",
       "    }\n",
       "</style>\n",
       "<table border=\"1\" class=\"dataframe\">\n",
       "  <thead>\n",
       "    <tr style=\"text-align: right;\">\n",
       "      <th></th>\n",
       "      <th>rating</th>\n",
       "    </tr>\n",
       "  </thead>\n",
       "  <tbody>\n",
       "    <tr>\n",
       "      <th>count</th>\n",
       "      <td>22641.000000</td>\n",
       "    </tr>\n",
       "    <tr>\n",
       "      <th>mean</th>\n",
       "      <td>4.183561</td>\n",
       "    </tr>\n",
       "    <tr>\n",
       "      <th>std</th>\n",
       "      <td>1.115762</td>\n",
       "    </tr>\n",
       "    <tr>\n",
       "      <th>min</th>\n",
       "      <td>1.000000</td>\n",
       "    </tr>\n",
       "    <tr>\n",
       "      <th>25%</th>\n",
       "      <td>4.000000</td>\n",
       "    </tr>\n",
       "    <tr>\n",
       "      <th>50%</th>\n",
       "      <td>5.000000</td>\n",
       "    </tr>\n",
       "    <tr>\n",
       "      <th>75%</th>\n",
       "      <td>5.000000</td>\n",
       "    </tr>\n",
       "    <tr>\n",
       "      <th>max</th>\n",
       "      <td>5.000000</td>\n",
       "    </tr>\n",
       "  </tbody>\n",
       "</table>\n",
       "</div>"
      ],
      "text/plain": [
       "             rating\n",
       "count  22641.000000\n",
       "mean       4.183561\n",
       "std        1.115762\n",
       "min        1.000000\n",
       "25%        4.000000\n",
       "50%        5.000000\n",
       "75%        5.000000\n",
       "max        5.000000"
      ]
     },
     "execution_count": 10,
     "metadata": {},
     "output_type": "execute_result"
    }
   ],
   "source": [
    "# descriptive statistics \n",
    "reviews.describe()\n"
   ]
  },
  {
   "cell_type": "code",
   "execution_count": 11,
   "id": "exotic-solomon",
   "metadata": {},
   "outputs": [
    {
     "data": {
      "text/plain": [
       "division name   department name\n",
       "General Petite  Trend              3.782609\n",
       "General         Trend              3.852632\n",
       "General Petite  Dresses            4.122328\n",
       "General         Tops               4.136778\n",
       "                Dresses            4.150318\n",
       "General Petite  Tops               4.197520\n",
       "General         Jackets            4.225962\n",
       "General Petite  Intimate           4.242291\n",
       "General         Bottoms            4.260727\n",
       "Initmates       Intimate           4.275596\n",
       "General Petite  Jackets            4.301587\n",
       "                Bottoms            4.315226\n",
       "Name: rating, dtype: float64"
      ]
     },
     "execution_count": 11,
     "metadata": {},
     "output_type": "execute_result"
    }
   ],
   "source": [
    "summ_rev=reviews.groupby(['division name', 'department name'])['rating'].mean().sort_values()\n",
    "summ_rev"
   ]
  },
  {
   "cell_type": "code",
   "execution_count": 14,
   "id": "disturbed-agency",
   "metadata": {},
   "outputs": [
    {
     "data": {
      "image/png": "[encoded data removed]",
      "text/plain": [
       "<Figure size 432x288 with 1 Axes>"
      ]
     },
     "metadata": {
      "needs_background": "light"
     },
     "output_type": "display_data"
    }
   ],
   "source": [
    "ax=summ_rev.plot.barh(x='rating', y=['division name','department name'], color='purple')\n"
   ]
  },
  {
   "cell_type": "markdown",
   "id": "collect-there",
   "metadata": {},
   "source": [
    "### sentiment analysis - intro to text blob"
   ]
  },
  {
   "cell_type": "code",
   "execution_count": 15,
   "id": "increased-breakdown",
   "metadata": {},
   "outputs": [],
   "source": [
    "from textblob import TextBlob"
   ]
  },
  {
   "cell_type": "code",
   "execution_count": 16,
   "id": "viral-lender",
   "metadata": {},
   "outputs": [
    {
     "data": {
      "text/plain": [
       "Sentiment(polarity=0.4, subjectivity=0.8)"
      ]
     },
     "execution_count": 16,
     "metadata": {},
     "output_type": "execute_result"
    }
   ],
   "source": [
    "#example from line of duty review \n",
    "review=TextBlob(\"I have to say it is by far the most brilliantly written police drama that the BBC have ever aired\")\n",
    "review.sentiment"
   ]
  },
  {
   "cell_type": "code",
   "execution_count": 18,
   "id": "characteristic-depression",
   "metadata": {},
   "outputs": [
    {
     "data": {
      "text/plain": [
       "Sentiment(polarity=0.6000000000000001, subjectivity=0.9)"
      ]
     },
     "execution_count": 18,
     "metadata": {},
     "output_type": "execute_result"
    }
   ],
   "source": [
    "#random example \n",
    "review2=TextBlob(\"marketing is amazing\")\n",
    "review2.sentiment"
   ]
  },
  {
   "cell_type": "code",
   "execution_count": 26,
   "id": "quick-qualification",
   "metadata": {},
   "outputs": [
    {
     "data": {
      "text/plain": [
       "'I had such high hopes for this dress and really wanted it to work for me. i initially ordered the petite small (my usual size) but i found this to be outrageously small. so small in fact that i could not zip it up! i reordered it in petite medium, which was just ok. overall, the top half was comfortable and fit nicely, but the bottom half had a very tight under layer and several somewhat cheap (net) over layers. imo, a major design flaw was the net over layer sewn directly into the zipper - it c'"
      ]
     },
     "execution_count": 26,
     "metadata": {},
     "output_type": "execute_result"
    }
   ],
   "source": [
    "#example from our clothing reviews data - select one cell \n",
    "reviews.at[2,'review text']"
   ]
  },
  {
   "cell_type": "code",
   "execution_count": 27,
   "id": "coordinated-elimination",
   "metadata": {},
   "outputs": [],
   "source": [
    "#complete that example \n",
    "review3=TextBlob('I had such high hopes for this dress and really wanted it to work for me. i initially ordered the petite small (my usual size) but i found this to be outrageously small. so small in fact that i could not zip it up! i reordered it in petite medium, which was just ok. overall, the top half was comfortable and fit nicely, but the bottom half had a very tight under layer and several somewhat cheap (net) over layers. imo, a major design flaw was the net over layer sewn directly into the zipper - it c')"
   ]
  },
  {
   "cell_type": "code",
   "execution_count": 28,
   "id": "recovered-shooting",
   "metadata": {},
   "outputs": [
    {
     "data": {
      "text/plain": [
       "Sentiment(polarity=0.07367494824016563, subjectivity=0.35629399585921323)"
      ]
     },
     "execution_count": 28,
     "metadata": {},
     "output_type": "execute_result"
    }
   ],
   "source": [
    "#calc the sentiment \n",
    "review3.sentiment"
   ]
  },
  {
   "cell_type": "code",
   "execution_count": 30,
   "id": "associate-enough",
   "metadata": {},
   "outputs": [
    {
     "data": {
      "text/plain": [
       "WordList(['I', 'had', 'such', 'high', 'hopes', 'for', 'this', 'dress', 'and', 'really', 'wanted', 'it', 'to', 'work', 'for', 'me', 'i', 'initially', 'ordered', 'the', 'petite', 'small', 'my', 'usual', 'size', 'but', 'i', 'found', 'this', 'to', 'be', 'outrageously', 'small', 'so', 'small', 'in', 'fact', 'that', 'i', 'could', 'not', 'zip', 'it', 'up', 'i', 'reordered', 'it', 'in', 'petite', 'medium', 'which', 'was', 'just', 'ok', 'overall', 'the', 'top', 'half', 'was', 'comfortable', 'and', 'fit', 'nicely', 'but', 'the', 'bottom', 'half', 'had', 'a', 'very', 'tight', 'under', 'layer', 'and', 'several', 'somewhat', 'cheap', 'net', 'over', 'layers', 'imo', 'a', 'major', 'design', 'flaw', 'was', 'the', 'net', 'over', 'layer', 'sewn', 'directly', 'into', 'the', 'zipper', 'it', 'c'])"
      ]
     },
     "execution_count": 30,
     "metadata": {},
     "output_type": "execute_result"
    }
   ],
   "source": [
    "#other things textblob can do \n",
    "review3.words"
   ]
  },
  {
   "cell_type": "code",
   "execution_count": 31,
   "id": "express-piece",
   "metadata": {},
   "outputs": [
    {
     "data": {
      "text/plain": [
       "[Sentence(\"I had such high hopes for this dress and really wanted it to work for me.\"),\n",
       " Sentence(\"i initially ordered the petite small (my usual size) but i found this to be outrageously small.\"),\n",
       " Sentence(\"so small in fact that i could not zip it up!\"),\n",
       " Sentence(\"i reordered it in petite medium, which was just ok. overall, the top half was comfortable and fit nicely, but the bottom half had a very tight under layer and several somewhat cheap (net) over layers.\"),\n",
       " Sentence(\"imo, a major design flaw was the net over layer sewn directly into the zipper - it c\")]"
      ]
     },
     "execution_count": 31,
     "metadata": {},
     "output_type": "execute_result"
    }
   ],
   "source": [
    "#other things textblob can do \n",
    "review3.sentences"
   ]
  },
  {
   "cell_type": "code",
   "execution_count": 32,
   "id": "pacific-redhead",
   "metadata": {},
   "outputs": [
    {
     "data": {
      "text/plain": [
       "WordList(['such high hopes', 'usual size', 'petite medium', 'ok. overall', 'major design flaw', 'layer sewn'])"
      ]
     },
     "execution_count": 32,
     "metadata": {},
     "output_type": "execute_result"
    }
   ],
   "source": [
    "#other things textblob can do \n",
    "review3.noun_phrases"
   ]
  },
  {
   "cell_type": "markdown",
   "id": "accessory-temple",
   "metadata": {},
   "source": [
    "### sentiment analysis iterating over our review data"
   ]
  },
  {
   "cell_type": "code",
   "execution_count": 34,
   "id": "tropical-newcastle",
   "metadata": {},
   "outputs": [],
   "source": [
    "# function to repeatedly capture the sentiment \n",
    "def sentiment(text):\n",
    "    try:\n",
    "        return TextBlob(text).sentiment\n",
    "    except:\n",
    "        return None"
   ]
  },
  {
   "cell_type": "code",
   "execution_count": 35,
   "id": "native-initial",
   "metadata": {},
   "outputs": [],
   "source": [
    "reviews['sentiment']=reviews['review text'].apply(sentiment).apply(lambda x : x[0])"
   ]
  },
  {
   "cell_type": "code",
   "execution_count": 36,
   "id": "rational-cameroon",
   "metadata": {},
   "outputs": [
    {
     "data": {
      "text/html": [
       "<div>\n",
       "<style scoped>\n",
       "    .dataframe tbody tr th:only-of-type {\n",
       "        vertical-align: middle;\n",
       "    }\n",
       "\n",
       "    .dataframe tbody tr th {\n",
       "        vertical-align: top;\n",
       "    }\n",
       "\n",
       "    .dataframe thead th {\n",
       "        text-align: right;\n",
       "    }\n",
       "</style>\n",
       "<table border=\"1\" class=\"dataframe\">\n",
       "  <thead>\n",
       "    <tr style=\"text-align: right;\">\n",
       "      <th></th>\n",
       "      <th>title</th>\n",
       "      <th>review text</th>\n",
       "      <th>rating</th>\n",
       "      <th>division name</th>\n",
       "      <th>department name</th>\n",
       "      <th>sentiment</th>\n",
       "    </tr>\n",
       "  </thead>\n",
       "  <tbody>\n",
       "    <tr>\n",
       "      <th>0</th>\n",
       "      <td>NaN</td>\n",
       "      <td>Absolutely wonderful - silky and sexy and comf...</td>\n",
       "      <td>4</td>\n",
       "      <td>Initmates</td>\n",
       "      <td>Intimate</td>\n",
       "      <td>0.633333</td>\n",
       "    </tr>\n",
       "    <tr>\n",
       "      <th>1</th>\n",
       "      <td>NaN</td>\n",
       "      <td>Love this dress!  it's sooo pretty.  i happene...</td>\n",
       "      <td>5</td>\n",
       "      <td>General</td>\n",
       "      <td>Dresses</td>\n",
       "      <td>0.339583</td>\n",
       "    </tr>\n",
       "    <tr>\n",
       "      <th>2</th>\n",
       "      <td>Some major design flaws</td>\n",
       "      <td>I had such high hopes for this dress and reall...</td>\n",
       "      <td>3</td>\n",
       "      <td>General</td>\n",
       "      <td>Dresses</td>\n",
       "      <td>0.073675</td>\n",
       "    </tr>\n",
       "    <tr>\n",
       "      <th>3</th>\n",
       "      <td>My favorite buy!</td>\n",
       "      <td>I love, love, love this jumpsuit. it's fun, fl...</td>\n",
       "      <td>5</td>\n",
       "      <td>General Petite</td>\n",
       "      <td>Bottoms</td>\n",
       "      <td>0.550000</td>\n",
       "    </tr>\n",
       "    <tr>\n",
       "      <th>4</th>\n",
       "      <td>Flattering shirt</td>\n",
       "      <td>This shirt is very flattering to all due to th...</td>\n",
       "      <td>5</td>\n",
       "      <td>General</td>\n",
       "      <td>Tops</td>\n",
       "      <td>0.512891</td>\n",
       "    </tr>\n",
       "    <tr>\n",
       "      <th>5</th>\n",
       "      <td>Not for the very petite</td>\n",
       "      <td>I love tracy reese dresses, but this one is no...</td>\n",
       "      <td>2</td>\n",
       "      <td>General</td>\n",
       "      <td>Dresses</td>\n",
       "      <td>0.178750</td>\n",
       "    </tr>\n",
       "    <tr>\n",
       "      <th>6</th>\n",
       "      <td>Cagrcoal shimmer fun</td>\n",
       "      <td>I aded this in my basket at hte last mintue to...</td>\n",
       "      <td>5</td>\n",
       "      <td>General Petite</td>\n",
       "      <td>Tops</td>\n",
       "      <td>0.133750</td>\n",
       "    </tr>\n",
       "    <tr>\n",
       "      <th>7</th>\n",
       "      <td>Shimmer, surprisingly goes with lots</td>\n",
       "      <td>I ordered this in carbon for store pick up, an...</td>\n",
       "      <td>4</td>\n",
       "      <td>General Petite</td>\n",
       "      <td>Tops</td>\n",
       "      <td>0.171635</td>\n",
       "    </tr>\n",
       "    <tr>\n",
       "      <th>8</th>\n",
       "      <td>Flattering</td>\n",
       "      <td>I love this dress. i usually get an xs but it ...</td>\n",
       "      <td>5</td>\n",
       "      <td>General</td>\n",
       "      <td>Dresses</td>\n",
       "      <td>0.002500</td>\n",
       "    </tr>\n",
       "    <tr>\n",
       "      <th>9</th>\n",
       "      <td>Such a fun dress!</td>\n",
       "      <td>I'm 5\"5' and 125 lbs. i ordered the s petite t...</td>\n",
       "      <td>5</td>\n",
       "      <td>General</td>\n",
       "      <td>Dresses</td>\n",
       "      <td>0.204200</td>\n",
       "    </tr>\n",
       "  </tbody>\n",
       "</table>\n",
       "</div>"
      ],
      "text/plain": [
       "                                  title  \\\n",
       "0                                   NaN   \n",
       "1                                   NaN   \n",
       "2               Some major design flaws   \n",
       "3                      My favorite buy!   \n",
       "4                      Flattering shirt   \n",
       "5               Not for the very petite   \n",
       "6                  Cagrcoal shimmer fun   \n",
       "7  Shimmer, surprisingly goes with lots   \n",
       "8                            Flattering   \n",
       "9                     Such a fun dress!   \n",
       "\n",
       "                                         review text  rating   division name  \\\n",
       "0  Absolutely wonderful - silky and sexy and comf...       4       Initmates   \n",
       "1  Love this dress!  it's sooo pretty.  i happene...       5         General   \n",
       "2  I had such high hopes for this dress and reall...       3         General   \n",
       "3  I love, love, love this jumpsuit. it's fun, fl...       5  General Petite   \n",
       "4  This shirt is very flattering to all due to th...       5         General   \n",
       "5  I love tracy reese dresses, but this one is no...       2         General   \n",
       "6  I aded this in my basket at hte last mintue to...       5  General Petite   \n",
       "7  I ordered this in carbon for store pick up, an...       4  General Petite   \n",
       "8  I love this dress. i usually get an xs but it ...       5         General   \n",
       "9  I'm 5\"5' and 125 lbs. i ordered the s petite t...       5         General   \n",
       "\n",
       "  department name  sentiment  \n",
       "0        Intimate   0.633333  \n",
       "1         Dresses   0.339583  \n",
       "2         Dresses   0.073675  \n",
       "3         Bottoms   0.550000  \n",
       "4            Tops   0.512891  \n",
       "5         Dresses   0.178750  \n",
       "6            Tops   0.133750  \n",
       "7            Tops   0.171635  \n",
       "8         Dresses   0.002500  \n",
       "9         Dresses   0.204200  "
      ]
     },
     "execution_count": 36,
     "metadata": {},
     "output_type": "execute_result"
    }
   ],
   "source": [
    "reviews.head(10)"
   ]
  },
  {
   "cell_type": "markdown",
   "id": "tight-webster",
   "metadata": {},
   "source": [
    "### evaluate the sentiment analysis"
   ]
  },
  {
   "cell_type": "code",
   "execution_count": 37,
   "id": "waiting-supervisor",
   "metadata": {},
   "outputs": [
    {
     "data": {
      "text/html": [
       "<div>\n",
       "<style scoped>\n",
       "    .dataframe tbody tr th:only-of-type {\n",
       "        vertical-align: middle;\n",
       "    }\n",
       "\n",
       "    .dataframe tbody tr th {\n",
       "        vertical-align: top;\n",
       "    }\n",
       "\n",
       "    .dataframe thead th {\n",
       "        text-align: right;\n",
       "    }\n",
       "</style>\n",
       "<table border=\"1\" class=\"dataframe\">\n",
       "  <thead>\n",
       "    <tr style=\"text-align: right;\">\n",
       "      <th></th>\n",
       "      <th>rating</th>\n",
       "      <th>sentiment</th>\n",
       "    </tr>\n",
       "  </thead>\n",
       "  <tbody>\n",
       "    <tr>\n",
       "      <th>count</th>\n",
       "      <td>22641.000000</td>\n",
       "      <td>22641.000000</td>\n",
       "    </tr>\n",
       "    <tr>\n",
       "      <th>mean</th>\n",
       "      <td>4.183561</td>\n",
       "      <td>0.249824</td>\n",
       "    </tr>\n",
       "    <tr>\n",
       "      <th>std</th>\n",
       "      <td>1.115762</td>\n",
       "      <td>0.176679</td>\n",
       "    </tr>\n",
       "    <tr>\n",
       "      <th>min</th>\n",
       "      <td>1.000000</td>\n",
       "      <td>-0.975000</td>\n",
       "    </tr>\n",
       "    <tr>\n",
       "      <th>25%</th>\n",
       "      <td>4.000000</td>\n",
       "      <td>0.140000</td>\n",
       "    </tr>\n",
       "    <tr>\n",
       "      <th>50%</th>\n",
       "      <td>5.000000</td>\n",
       "      <td>0.239399</td>\n",
       "    </tr>\n",
       "    <tr>\n",
       "      <th>75%</th>\n",
       "      <td>5.000000</td>\n",
       "      <td>0.350000</td>\n",
       "    </tr>\n",
       "    <tr>\n",
       "      <th>max</th>\n",
       "      <td>5.000000</td>\n",
       "      <td>1.000000</td>\n",
       "    </tr>\n",
       "  </tbody>\n",
       "</table>\n",
       "</div>"
      ],
      "text/plain": [
       "             rating     sentiment\n",
       "count  22641.000000  22641.000000\n",
       "mean       4.183561      0.249824\n",
       "std        1.115762      0.176679\n",
       "min        1.000000     -0.975000\n",
       "25%        4.000000      0.140000\n",
       "50%        5.000000      0.239399\n",
       "75%        5.000000      0.350000\n",
       "max        5.000000      1.000000"
      ]
     },
     "execution_count": 37,
     "metadata": {},
     "output_type": "execute_result"
    }
   ],
   "source": [
    "reviews.describe()"
   ]
  },
  {
   "cell_type": "code",
   "execution_count": 42,
   "id": "shared-renaissance",
   "metadata": {},
   "outputs": [],
   "source": [
    "#change from mean to min \n",
    "\n",
    "sent_summ=reviews.groupby(['division name', 'department name'])['sentiment'].min().sort_values()"
   ]
  },
  {
   "cell_type": "code",
   "execution_count": 44,
   "id": "attractive-murder",
   "metadata": {},
   "outputs": [
    {
     "data": {
      "text/plain": [
       "division name   department name\n",
       "General         Tops              -0.975000\n",
       "                Dresses           -0.916667\n",
       "                Jackets           -0.750000\n",
       "General Petite  Tops              -0.700000\n",
       "                Intimate          -0.575000\n",
       "                Jackets           -0.562500\n",
       "General         Bottoms           -0.533333\n",
       "General Petite  Dresses           -0.400000\n",
       "Initmates       Intimate          -0.392333\n",
       "General         Trend             -0.270833\n",
       "General Petite  Bottoms           -0.257778\n",
       "                Trend             -0.083333\n",
       "Name: sentiment, dtype: float64"
      ]
     },
     "execution_count": 44,
     "metadata": {},
     "output_type": "execute_result"
    }
   ],
   "source": [
    "sent_summ"
   ]
  },
  {
   "cell_type": "code",
   "execution_count": 45,
   "id": "careful-orleans",
   "metadata": {},
   "outputs": [
    {
     "data": {
      "image/png": "[encoded data removed]",
      "text/plain": [
       "<Figure size 432x288 with 1 Axes>"
      ]
     },
     "metadata": {
      "needs_background": "light"
     },
     "output_type": "display_data"
    }
   ],
   "source": [
    "ax=sent_summ.plot.barh(x='sentiment', y=['division name','department name'], color='green')"
   ]
  },
  {
   "cell_type": "code",
   "execution_count": null,
   "id": "universal-chair",
   "metadata": {},
   "outputs": [],
   "source": []
  }
 ],
 "metadata": {
  "kernelspec": {
   "display_name": "Python 3",
   "language": "python",
   "name": "python3"
  },
  "language_info": {
   "codemirror_mode": {
    "name": "ipython",
    "version": 3
   },
   "file_extension": ".py",
   "mimetype": "text/x-python",
   "name": "python",
   "nbconvert_exporter": "python",
   "pygments_lexer": "ipython3",
   "version": "3.8.3"
  }
 },
 "nbformat": 4,
 "nbformat_minor": 5
}
